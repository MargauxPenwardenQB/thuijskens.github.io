{
 "cells": [
  {
   "cell_type": "markdown",
   "metadata": {},
   "source": [
    "## Causal analysis - propensity score matching\n",
    "\n",
    "First we load the necessary modules and define a number of helper functions that will take care of estimating the propensity model, the matching procedure and visualisation."
   ]
  },
  {
   "cell_type": "code",
   "execution_count": 205,
   "metadata": {
    "collapsed": true
   },
   "outputs": [],
   "source": [
    "%matplotlib inline\n",
    "import numpy as np\n",
    "import pandas as pd\n",
    "import seaborn as sns\n",
    "import statsmodels as sm\n",
    "import statsmodels.api as sma\n",
    "import statsmodels.formula.api as smf\n",
    "import matplotlib.pyplot as plt\n",
    "import os\n",
    "\n",
    "def estimate_propensity(formula, data, show_summary=False):\n",
    "    model = smf.glm(formula=formula, data=data, family=sma.families.Binomial()).fit()\n",
    "\n",
    "    if show_summary:\n",
    "        print(model.summary())\n",
    "\n",
    "    return pd.Series(data=model.predict(data), index=data.index)\n",
    "\n",
    "\n",
    "def matching(label, propensity, calipher=0.05, replace=True):\n",
    "    \"\"\" Nearest-neighbour matching\n",
    "\n",
    "    Parameters:\n",
    "    -----------\n",
    "        label: Pandas Series that contains the label for each observation.\n",
    "        propensity: Pandas Series that contains the propensity score for each observation.\n",
    "        calipher: Bound on distance between observations in terms of propensity score.\n",
    "        replace: Boolean that indicates whether sampling is with (True) or without replacement (False).\n",
    "    \"\"\"\n",
    "\n",
    "    treated = propensity[label == 1]\n",
    "    control = propensity[label == 0]\n",
    "\n",
    "    # Randomly permute in case of sampling without replacement to remove any bias arising from the\n",
    "    # ordering of the data set\n",
    "    matching_order = np.random.permutation(label[label == 1].index)\n",
    "    matches = {}\n",
    "\n",
    "    for obs in matching_order:\n",
    "        # Compute the distance between the treatment observation and all candidate controls in terms of\n",
    "        # propensity score\n",
    "        distance = abs(treated[obs] - control)\n",
    "\n",
    "        # Take the closest match\n",
    "        if distance.min() <= calipher or not calipher:\n",
    "            matches[obs] = [distance.argmin()]\n",
    "            \n",
    "            # Remove the matched control from the set of candidate controls in case of sampling without replacement\n",
    "            if not replace:\n",
    "                control = control.drop(matches[obs])\n",
    "\n",
    "    return matches\n",
    "\n",
    "                            \n",
    "def matching_to_dataframe(match, covariates, remove_duplicates=False):\n",
    "    \"\"\" Converts matches to Pandas DataFrame\n",
    "\n",
    "    Parameters:\n",
    "    -----------\n",
    "        match: Result from matching()\n",
    "        covariates: Pandas dataframe that contains the covariate data.\n",
    "        remove_duplicates: Boolean that indicates whether or not to remove duplicate rows from the result.\n",
    "            Duplicate rows are controls that where matched multiple times.\n",
    "            ****If matching with replacement was used you should set this to False****\n",
    "    \"\"\"\n",
    "    treated = list(match.keys())\n",
    "    control = [ctrl for matched_list in match.values() for ctrl in matched_list]\n",
    "\n",
    "    result = pd.concat([covariates.loc[treated], covariates.loc[control]])\n",
    "\n",
    "    if remove_duplicates:\n",
    "        return result.groupby(result.index).first()\n",
    "    else:\n",
    "        return result\n",
    "     \n",
    "\n",
    "def trim_common_support(data, label_name):\n",
    "    group_min_max = (data.groupby(label_name)\n",
    "                         .propensity.agg({\"min_propensity\": np.min, \"max_propensity\": np.max}))\n",
    "\n",
    "    # Compute boundaries of common support between the two propensity score distributions\n",
    "    min_common_support = np.max(group_min_max.min_propensity)\n",
    "    max_common_support = np.min(group_min_max.max_propensity)\n",
    "\n",
    "    common_support = (data.propensity >= min_common_support) & (data.propensity <= max_common_support)\n",
    "    control = (data[label_name] == 0)\n",
    "    treated = (data[label_name] == 1)\n",
    "    \n",
    "    return data[common_support]\n",
    "\n",
    "def qq_plot(x, y, variable_name):\n",
    "    q = np.arange(0, 100)\n",
    "    a = np.percentile(a=x, q=q)\n",
    "    b = np.percentile(a=y, q=q)\n",
    "    \n",
    "    fig, ax = plt.subplots(figsize=(8, 8))\n",
    "    plt.title(\"QQ-plot of variable %s\" % variable_name)\n",
    "        \n",
    "    plt.plot(a, b, 'o')\n",
    "    plt.plot([0, np.max(a)], [0, np.max(a)], '-')\n",
    "    \n",
    "    ax.set_xlabel(\"Control quantiles\")\n",
    "    ax.set_ylabel(\"Treatment quantiles\")"
   ]
  },
  {
   "cell_type": "markdown",
   "metadata": {},
   "source": [
    "## LaLonde data set\n",
    "\n",
    "To illustrate the idea of propensity score matching methods, we will look at a data set from Robert Lalonde, *\"Evaluating the Econometric Evaluations of Training Programs\"*, American Economic Review, Vol. 76, pp. 604-620. The study looked at what the effectives of a job training programme (the treatment) was on the real earnings a couple years later. \n",
    "\n",
    "The data consists of a number of demographic variables (age, race, academic background, and previous real earnings), as well as a treatment indicator and the real earnings in the year 1978 (the response)."
   ]
  },
  {
   "cell_type": "code",
   "execution_count": 195,
   "metadata": {
    "collapsed": false
   },
   "outputs": [
    {
     "data": {
      "text/html": [
       "<div>\n",
       "<table border=\"1\" class=\"dataframe\">\n",
       "  <thead>\n",
       "    <tr style=\"text-align: right;\">\n",
       "      <th></th>\n",
       "      <th>treat</th>\n",
       "      <th>age</th>\n",
       "      <th>educ</th>\n",
       "      <th>black</th>\n",
       "      <th>hispan</th>\n",
       "      <th>married</th>\n",
       "      <th>nodegree</th>\n",
       "      <th>re74</th>\n",
       "      <th>re75</th>\n",
       "      <th>re78</th>\n",
       "    </tr>\n",
       "  </thead>\n",
       "  <tbody>\n",
       "    <tr>\n",
       "      <th>NSW1</th>\n",
       "      <td>1</td>\n",
       "      <td>37</td>\n",
       "      <td>11</td>\n",
       "      <td>1</td>\n",
       "      <td>0</td>\n",
       "      <td>1</td>\n",
       "      <td>1</td>\n",
       "      <td>0.0</td>\n",
       "      <td>0.0</td>\n",
       "      <td>9930.0460</td>\n",
       "    </tr>\n",
       "    <tr>\n",
       "      <th>NSW2</th>\n",
       "      <td>1</td>\n",
       "      <td>22</td>\n",
       "      <td>9</td>\n",
       "      <td>0</td>\n",
       "      <td>1</td>\n",
       "      <td>0</td>\n",
       "      <td>1</td>\n",
       "      <td>0.0</td>\n",
       "      <td>0.0</td>\n",
       "      <td>3595.8940</td>\n",
       "    </tr>\n",
       "    <tr>\n",
       "      <th>NSW3</th>\n",
       "      <td>1</td>\n",
       "      <td>30</td>\n",
       "      <td>12</td>\n",
       "      <td>1</td>\n",
       "      <td>0</td>\n",
       "      <td>0</td>\n",
       "      <td>0</td>\n",
       "      <td>0.0</td>\n",
       "      <td>0.0</td>\n",
       "      <td>24909.4500</td>\n",
       "    </tr>\n",
       "    <tr>\n",
       "      <th>NSW4</th>\n",
       "      <td>1</td>\n",
       "      <td>27</td>\n",
       "      <td>11</td>\n",
       "      <td>1</td>\n",
       "      <td>0</td>\n",
       "      <td>0</td>\n",
       "      <td>1</td>\n",
       "      <td>0.0</td>\n",
       "      <td>0.0</td>\n",
       "      <td>7506.1460</td>\n",
       "    </tr>\n",
       "    <tr>\n",
       "      <th>NSW5</th>\n",
       "      <td>1</td>\n",
       "      <td>33</td>\n",
       "      <td>8</td>\n",
       "      <td>1</td>\n",
       "      <td>0</td>\n",
       "      <td>0</td>\n",
       "      <td>1</td>\n",
       "      <td>0.0</td>\n",
       "      <td>0.0</td>\n",
       "      <td>289.7899</td>\n",
       "    </tr>\n",
       "  </tbody>\n",
       "</table>\n",
       "</div>"
      ],
      "text/plain": [
       "      treat  age  educ  black  hispan  married  nodegree  re74  re75  \\\n",
       "NSW1      1   37    11      1       0        1         1   0.0   0.0   \n",
       "NSW2      1   22     9      0       1        0         1   0.0   0.0   \n",
       "NSW3      1   30    12      1       0        0         0   0.0   0.0   \n",
       "NSW4      1   27    11      1       0        0         1   0.0   0.0   \n",
       "NSW5      1   33     8      1       0        0         1   0.0   0.0   \n",
       "\n",
       "            re78  \n",
       "NSW1   9930.0460  \n",
       "NSW2   3595.8940  \n",
       "NSW3  24909.4500  \n",
       "NSW4   7506.1460  \n",
       "NSW5    289.7899  "
      ]
     },
     "execution_count": 195,
     "metadata": {},
     "output_type": "execute_result"
    }
   ],
   "source": [
    "# Import the LaLonde data set\n",
    "lalonde = pd.read_csv(\"lalonde.csv\", index_col=0)\n",
    "lalonde.head()"
   ]
  },
  {
   "cell_type": "markdown",
   "metadata": {},
   "source": [
    "We can't use a t-test to assess whether or not there is a statistically significant effect of the treatment because there is selection bias in our sample. People with lower income tend to participate relatively more in the job program. "
   ]
  },
  {
   "cell_type": "code",
   "execution_count": 160,
   "metadata": {
    "collapsed": false,
    "scrolled": false
   },
   "outputs": [
    {
     "data": {
      "text/plain": [
       "treat\n",
       "0    Axes(0.125,0.125;0.775x0.775)\n",
       "1    Axes(0.125,0.125;0.775x0.775)\n",
       "Name: re74, dtype: object"
      ]
     },
     "execution_count": 160,
     "metadata": {},
     "output_type": "execute_result"
    },
    {
     "data": {
      "image/png": "[encoded data removed]",
      "text/plain": [
       "<matplotlib.figure.Figure at 0x113a6b4e0>"
      ]
     },
     "metadata": {},
     "output_type": "display_data"
    }
   ],
   "source": [
    "lalonde.groupby(\"treat\")[\"re74\"].plot(kind=\"hist\", sharex=True, range=(0, 40000), bins=30, alpha=0.75)"
   ]
  },
  {
   "cell_type": "code",
   "execution_count": 161,
   "metadata": {
    "collapsed": false,
    "scrolled": false
   },
   "outputs": [
    {
     "data": {
      "text/plain": [
       "treat\n",
       "0    Axes(0.125,0.125;0.775x0.775)\n",
       "1    Axes(0.125,0.125;0.775x0.775)\n",
       "Name: re75, dtype: object"
      ]
     },
     "execution_count": 161,
     "metadata": {},
     "output_type": "execute_result"
    },
    {
     "data": {
      "image/png": "[encoded data removed]",
      "text/plain": [
       "<matplotlib.figure.Figure at 0x110ab89b0>"
      ]
     },
     "metadata": {},
     "output_type": "display_data"
    }
   ],
   "source": [
    "lalonde.groupby(\"treat\")[\"re75\"].plot(kind=\"hist\", sharex=True, range=(0, 40000), bins=30, alpha=0.75)"
   ]
  },
  {
   "cell_type": "markdown",
   "metadata": {},
   "source": [
    "## Propensity score matching\n",
    "\n",
    "To make a fair comparison between the treatment and control groups, we need to remove the selection bias in our sample. This is where propensity score matching methods come in. First, we estimate a model that computes the propensity that an observation is going to participate, based on some of the (imbalanced) covariates.\n",
    "\n",
    "One word of warning: you should only use covariates that contain information about the observations **prior** to the treatment. Otherwise, there will be leakage of post-treatment information into your propensity model, and the distribution of your propensity scores will not reflect the true distribution.\n",
    "\n",
    "For simplicity, we will put all the covariates into the propensity model. In reality, you should iterate on your selection of covariates for the propensity score model and use the set of variables that results in a sufficient reduction of the imbalance in your data set."
   ]
  },
  {
   "cell_type": "code",
   "execution_count": 197,
   "metadata": {
    "collapsed": false
   },
   "outputs": [
    {
     "name": "stdout",
     "output_type": "stream",
     "text": [
      "                 Generalized Linear Model Regression Results                  \n",
      "==============================================================================\n",
      "Dep. Variable:                  treat   No. Observations:                  614\n",
      "Model:                            GLM   Df Residuals:                      600\n",
      "Model Family:                Binomial   Df Model:                           13\n",
      "Link Function:                  logit   Scale:                             1.0\n",
      "Method:                          IRLS   Log-Likelihood:                -238.64\n",
      "Date:                Sun, 14 Aug 2016   Deviance:                       477.29\n",
      "Time:                        13:09:28   Pearson chi2:                     558.\n",
      "No. Iterations:                     9                                         \n",
      "================================================================================\n",
      "                   coef    std err          z      P>|z|      [95.0% Conf. Int.]\n",
      "--------------------------------------------------------------------------------\n",
      "Intercept       -4.7527      1.232     -3.859      0.000        -7.166    -2.339\n",
      "age              0.0835      0.058      1.436      0.151        -0.030     0.197\n",
      "educ             0.1043      0.075      1.388      0.165        -0.043     0.252\n",
      "black            2.7442      0.317      8.665      0.000         2.123     3.365\n",
      "hispan           0.9507      0.435      2.188      0.029         0.099     1.802\n",
      "married         -0.7846      0.296     -2.647      0.008        -1.366    -0.204\n",
      "nodegree         0.8915      0.449      1.986      0.047         0.011     1.772\n",
      "re74            -0.0002    7.6e-05     -3.046      0.002        -0.000 -8.26e-05\n",
      "re75          -6.65e-07   9.48e-05     -0.007      0.994        -0.000     0.000\n",
      "I(age ^ 2)      -0.0679      0.058     -1.169      0.242        -0.182     0.046\n",
      "I(educ ^ 2)      0.0790      0.078      1.015      0.310        -0.074     0.232\n",
      "I(re74 ** 2)  4.868e-09   3.02e-09      1.612      0.107     -1.05e-09  1.08e-08\n",
      "I(re75 ** 2)  4.461e-09   6.39e-09      0.698      0.485     -8.07e-09   1.7e-08\n",
      "re74:black    9.548e-05      6e-05      1.591      0.112     -2.22e-05     0.000\n",
      "================================================================================\n"
     ]
    }
   ],
   "source": [
    "propensity_model_covariates = ['age', 'educ', 'black', 'hispan', \n",
    "                               'married', 'nodegree', 're74', 're75',\n",
    "                               'I(age^2)', 'I(educ^2)', 'I(re74 ** 2)', 'I(re75 ** 2)', 're74 * black']\n",
    "\n",
    "propensity_model_formula = \"treat ~ \" + \" + \".join(propensity_model_covariates)\n",
    "\n",
    "lalonde[\"propensity\"] = estimate_propensity(formula=propensity_model_formula, \n",
    "                                            data=lalonde, \n",
    "                                            show_summary=True)"
   ]
  },
  {
   "cell_type": "markdown",
   "metadata": {},
   "source": [
    "Let's have a look at the distribution of the propensity scores between the treatment and control group. "
   ]
  },
  {
   "cell_type": "code",
   "execution_count": 198,
   "metadata": {
    "collapsed": false,
    "scrolled": false
   },
   "outputs": [
    {
     "data": {
      "text/plain": [
       "treat\n",
       "0    Axes(0.125,0.125;0.775x0.775)\n",
       "1    Axes(0.125,0.125;0.775x0.775)\n",
       "Name: propensity, dtype: object"
      ]
     },
     "execution_count": 198,
     "metadata": {},
     "output_type": "execute_result"
    },
    {
     "data": {
      "image/png": "[encoded data removed]",
      "text/plain": [
       "<matplotlib.figure.Figure at 0x115042940>"
      ]
     },
     "metadata": {},
     "output_type": "display_data"
    }
   ],
   "source": [
    "lalonde.groupby(\"treat\")[\"propensity\"].plot(kind=\"hist\", sharex=True, range=(0, 1), bins=20, alpha = 0.75)"
   ]
  },
  {
   "cell_type": "markdown",
   "metadata": {},
   "source": [
    "From the above histogram, the imbalance in our sample is clearly visible. Given the covariates, the treatment group is much more susceptible to receive treatment than the control group. The propensity score matching method will try to ensure the distribution of the propensity scores for both groups is similar to each other.\n",
    "\n",
    "However, before we continue further we need to trim the set of observations to the so-called *common support* of the propensity score distribution. The common support is the intersection of the support of the propensity score distribution for the two groups. This preprocessing step is done because for observations that don't fall in the common support, we can't find a matching observation with a similar propensity score."
   ]
  },
  {
   "cell_type": "code",
   "execution_count": 199,
   "metadata": {
    "collapsed": false
   },
   "outputs": [
    {
     "data": {
      "text/plain": [
       "treat\n",
       "0    Axes(0.125,0.125;0.775x0.775)\n",
       "1    Axes(0.125,0.125;0.775x0.775)\n",
       "Name: propensity, dtype: object"
      ]
     },
     "execution_count": 199,
     "metadata": {},
     "output_type": "execute_result"
    },
    {
     "data": {
      "image/png": "[encoded data removed]",
      "text/plain": [
       "<matplotlib.figure.Figure at 0x115093ef0>"
      ]
     },
     "metadata": {},
     "output_type": "display_data"
    }
   ],
   "source": [
    "common_support = trim_common_support(lalonde, \"treat\")\n",
    "\n",
    "# Plot the resulting propensity score distribution to make sure we restricted ourselves to the common support\n",
    "common_support.groupby(\"treat\")[\"propensity\"].plot(kind=\"hist\", sharex=True, range=(0, 1), bins=20, alpha = 0.75)"
   ]
  },
  {
   "cell_type": "markdown",
   "metadata": {},
   "source": [
    "Finally, we are ready to apply our propensity score matching method to the data. We will use a 1-nearest neighbour matching aproach with replacement, and a calipher equal to $0.05$. Again, these parameters are something you should iterate on in reality."
   ]
  },
  {
   "cell_type": "code",
   "execution_count": 215,
   "metadata": {
    "collapsed": false
   },
   "outputs": [],
   "source": [
    "matches = matching(label=common_support.treat,\n",
    "                   propensity=common_support.propensity,\n",
    "                   calipher=0.01,\n",
    "                   replace=True)"
   ]
  },
  {
   "cell_type": "code",
   "execution_count": 216,
   "metadata": {
    "collapsed": false
   },
   "outputs": [
    {
     "data": {
      "text/plain": [
       "True"
      ]
     },
     "execution_count": 216,
     "metadata": {},
     "output_type": "execute_result"
    }
   ],
   "source": [
    "# Did everybody get a match?\n",
    "sum([True if match == [] else False for match in matches]) == 0"
   ]
  },
  {
   "cell_type": "markdown",
   "metadata": {},
   "source": [
    "Finally, we convert the matches back to a data frame with the original covariates and inspect the resulting distribution of our pre-treatment covariates."
   ]
  },
  {
   "cell_type": "code",
   "execution_count": 217,
   "metadata": {
    "collapsed": false
   },
   "outputs": [
    {
     "data": {
      "text/plain": [
       "treat\n",
       "0    Axes(0.125,0.125;0.775x0.775)\n",
       "1    Axes(0.125,0.125;0.775x0.775)\n",
       "Name: propensity, dtype: object"
      ]
     },
     "execution_count": 217,
     "metadata": {},
     "output_type": "execute_result"
    },
    {
     "data": {
      "image/png": "[encoded data removed]",
      "text/plain": [
       "<matplotlib.figure.Figure at 0x1143cc2b0>"
      ]
     },
     "metadata": {},
     "output_type": "display_data"
    }
   ],
   "source": [
    "matches_data_frame = matching_to_dataframe(match=matches,\n",
    "                                           covariates=common_support,\n",
    "                                           remove_duplicates=False)\n",
    "\n",
    "matches_data_frame.groupby(\"treat\")[\"propensity\"].plot(kind=\"hist\", sharex=True, range=(0,1), bins=20, alpha=0.75)"
   ]
  },
  {
   "cell_type": "markdown",
   "metadata": {},
   "source": [
    "We see that the distribution of the propensity scores are much more similar after the matching, compared to before the matching. We should also check if the matching improved the balance in our covariates. There are multiple ways of checking this balance:\n",
    "\n",
    "* Comparing means and standard deviations between the treatment and control groups across the covariates.\n",
    "* QQ-plots of the distributions of the covariates between the treatment and control groups.\n",
    "* LOWESS plots where we compare the expected value of a covariate $X$ between the treatment and control groups for every value of the propensity score. \n",
    "\n",
    "In real-world problems you should continuously check these plots and iterate with your propensity model and matching method until you achieve a sufficient balance in your covariates."
   ]
  },
  {
   "cell_type": "markdown",
   "metadata": {},
   "source": [
    "## Comparings means and standard deviations"
   ]
  },
  {
   "cell_type": "code",
   "execution_count": 218,
   "metadata": {
    "collapsed": false
   },
   "outputs": [
    {
     "data": {
      "text/html": [
       "<div>\n",
       "<table border=\"1\" class=\"dataframe\">\n",
       "  <thead>\n",
       "    <tr>\n",
       "      <th></th>\n",
       "      <th colspan=\"2\" halign=\"left\">propensity</th>\n",
       "      <th colspan=\"2\" halign=\"left\">re74</th>\n",
       "      <th colspan=\"2\" halign=\"left\">re75</th>\n",
       "    </tr>\n",
       "    <tr>\n",
       "      <th></th>\n",
       "      <th>mean</th>\n",
       "      <th>std</th>\n",
       "      <th>mean</th>\n",
       "      <th>std</th>\n",
       "      <th>mean</th>\n",
       "      <th>std</th>\n",
       "    </tr>\n",
       "    <tr>\n",
       "      <th>treat</th>\n",
       "      <th></th>\n",
       "      <th></th>\n",
       "      <th></th>\n",
       "      <th></th>\n",
       "      <th></th>\n",
       "      <th></th>\n",
       "    </tr>\n",
       "  </thead>\n",
       "  <tbody>\n",
       "    <tr>\n",
       "      <th>0</th>\n",
       "      <td>0.563970</td>\n",
       "      <td>0.215311</td>\n",
       "      <td>2389.222552</td>\n",
       "      <td>4527.054689</td>\n",
       "      <td>1691.309899</td>\n",
       "      <td>3054.155447</td>\n",
       "    </tr>\n",
       "    <tr>\n",
       "      <th>1</th>\n",
       "      <td>0.563374</td>\n",
       "      <td>0.215430</td>\n",
       "      <td>1950.070078</td>\n",
       "      <td>4285.231922</td>\n",
       "      <td>1396.405241</td>\n",
       "      <td>2678.380725</td>\n",
       "    </tr>\n",
       "  </tbody>\n",
       "</table>\n",
       "</div>"
      ],
      "text/plain": [
       "      propensity                   re74                      re75             \n",
       "            mean       std         mean          std         mean          std\n",
       "treat                                                                         \n",
       "0       0.563970  0.215311  2389.222552  4527.054689  1691.309899  3054.155447\n",
       "1       0.563374  0.215430  1950.070078  4285.231922  1396.405241  2678.380725"
      ]
     },
     "execution_count": 218,
     "metadata": {},
     "output_type": "execute_result"
    }
   ],
   "source": [
    "vars_to_compare = [\"propensity\", \"re74\", \"re75\"]\n",
    "matches_data_frame.groupby(\"treat\")[vars_to_compare].agg([np.mean, np.std])"
   ]
  },
  {
   "cell_type": "markdown",
   "metadata": {},
   "source": [
    "## Comparing QQ-plots"
   ]
  },
  {
   "cell_type": "code",
   "execution_count": 219,
   "metadata": {
    "collapsed": false,
    "scrolled": true
   },
   "outputs": [
    {
     "data": {
      "image/png": "[encoded data removed]",
      "text/plain": [
       "<matplotlib.figure.Figure at 0x1157b0eb8>"
      ]
     },
     "metadata": {},
     "output_type": "display_data"
    },
    {
     "data": {
      "image/png": "[encoded data removed]",
      "text/plain": [
       "<matplotlib.figure.Figure at 0x1159aa8d0>"
      ]
     },
     "metadata": {},
     "output_type": "display_data"
    }
   ],
   "source": [
    "vars_to_plot = [\"re74\", \"re75\"]\n",
    "\n",
    "for var in vars_to_plot:\n",
    "    control = matches_data_frame[matches_data_frame.treat == 0][var]\n",
    "    treat = matches_data_frame[matches_data_frame.treat == 1][var]\n",
    "    \n",
    "    qq_plot(control, treat, var)"
   ]
  },
  {
   "cell_type": "markdown",
   "metadata": {},
   "source": [
    "## Comparing LOWESS plots"
   ]
  },
  {
   "cell_type": "code",
   "execution_count": 220,
   "metadata": {
    "collapsed": false
   },
   "outputs": [
    {
     "data": {
      "text/plain": [
       "<matplotlib.figure.Figure at 0x114baef98>"
      ]
     },
     "metadata": {},
     "output_type": "display_data"
    },
    {
     "data": {
      "image/png": "[encoded data removed]",
      "text/plain": [
       "<matplotlib.figure.Figure at 0x114a04588>"
      ]
     },
     "metadata": {},
     "output_type": "display_data"
    },
    {
     "data": {
      "text/plain": [
       "<matplotlib.figure.Figure at 0x114a04b38>"
      ]
     },
     "metadata": {},
     "output_type": "display_data"
    },
    {
     "data": {
      "image/png": "[encoded data removed]",
      "text/plain": [
       "<matplotlib.figure.Figure at 0x11492b3c8>"
      ]
     },
     "metadata": {},
     "output_type": "display_data"
    }
   ],
   "source": [
    "def loess_plots(matches_data_frame, balance_covariates, label_name):\n",
    "    for covariate in balance_covariates:\n",
    "        plt.figure()\n",
    "        sns.lmplot(data=matches_data_frame,\n",
    "                   x=\"propensity\",\n",
    "                   y=covariate,\n",
    "                   hue=label_name,\n",
    "                   scatter=False, \n",
    "                   lowess=True)\n",
    "        \n",
    "loess_plots(matches_data_frame, vars_to_plot, label_name=\"treat\")"
   ]
  },
  {
   "cell_type": "markdown",
   "metadata": {},
   "source": [
    "## Comparing histograms"
   ]
  },
  {
   "cell_type": "code",
   "execution_count": 221,
   "metadata": {
    "collapsed": false
   },
   "outputs": [
    {
     "data": {
      "image/png": "[encoded data removed]",
      "text/plain": [
       "<matplotlib.figure.Figure at 0x11184b5f8>"
      ]
     },
     "metadata": {},
     "output_type": "display_data"
    },
    {
     "data": {
      "image/png": "[encoded data removed]",
      "text/plain": [
       "<matplotlib.figure.Figure at 0x115dc4cc0>"
      ]
     },
     "metadata": {},
     "output_type": "display_data"
    },
    {
     "data": {
      "image/png": "[encoded data removed]",
      "text/plain": [
       "<matplotlib.figure.Figure at 0x1166e9a90>"
      ]
     },
     "metadata": {},
     "output_type": "display_data"
    }
   ],
   "source": [
    "vars_to_plot = [\"propensity\", \"re74\", \"re75\"]\n",
    "vars_range = {\"propensity\": (0, 1),\n",
    "              \"re74\": (0, 40000),\n",
    "              \"re75\": (0, 40000)}\n",
    "\n",
    "for var in vars_to_plot:\n",
    "    fig, ax = plt.subplots()\n",
    "    matches_data_frame.groupby(\"treat\")[var].plot(kind=\"hist\", sharex=True, range=vars_range[var], bins=15, alpha=0.75)"
   ]
  },
  {
   "cell_type": "markdown",
   "metadata": {},
   "source": [
    "## Average treatment effect\n",
    "\n",
    "Since the data set is now balanced on the pre-treatment covariates, we are now able to accurately compute the treatment effect by means of a t-test for a difference in means. The null hypothesis is that there is no statistically significant difference in mean real earnings in 1978 between the test and control groups, and we will test at a significance level $\\alpha = 0.05$. "
   ]
  },
  {
   "cell_type": "code",
   "execution_count": 222,
   "metadata": {
    "collapsed": false
   },
   "outputs": [
    {
     "name": "stdout",
     "output_type": "stream",
     "text": [
      "                            OLS Regression Results                            \n",
      "==============================================================================\n",
      "Dep. Variable:                   re78   R-squared:                       0.001\n",
      "Model:                            OLS   Adj. R-squared:                 -0.002\n",
      "Method:                 Least Squares   F-statistic:                    0.4436\n",
      "Date:                Sun, 14 Aug 2016   Prob (F-statistic):              0.506\n",
      "Time:                        13:13:39   Log-Likelihood:                -3324.4\n",
      "No. Observations:                 322   AIC:                             6653.\n",
      "Df Residuals:                     320   BIC:                             6660.\n",
      "Df Model:                           1                                         \n",
      "Covariance Type:            nonrobust                                         \n",
      "==============================================================================\n",
      "                 coef    std err          t      P>|t|      [95.0% Conf. Int.]\n",
      "------------------------------------------------------------------------------\n",
      "Intercept   5851.8429    582.719     10.042      0.000      4705.399  6998.286\n",
      "treat        548.8920    824.089      0.666      0.506     -1072.424  2170.208\n",
      "==============================================================================\n",
      "Omnibus:                      164.021   Durbin-Watson:                   2.101\n",
      "Prob(Omnibus):                  0.000   Jarque-Bera (JB):             1135.762\n",
      "Skew:                           2.012   Prob(JB):                    2.36e-247\n",
      "Kurtosis:                      11.274   Cond. No.                         2.62\n",
      "==============================================================================\n",
      "\n",
      "Warnings:\n",
      "[1] Standard Errors assume that the covariance matrix of the errors is correctly specified.\n"
     ]
    }
   ],
   "source": [
    "print(smf.ols(formula='re78 ~ treat', data=matches_data_frame).fit().summary())"
   ]
  }
 ],
 "metadata": {
  "kernelspec": {
   "display_name": "Python 3",
   "language": "python",
   "name": "python3"
  },
  "language_info": {
   "codemirror_mode": {
    "name": "ipython",
    "version": 3
   },
   "file_extension": ".py",
   "mimetype": "text/x-python",
   "name": "python",
   "nbconvert_exporter": "python",
   "pygments_lexer": "ipython3",
   "version": "3.4.3"
  }
 },
 "nbformat": 4,
 "nbformat_minor": 0
}
